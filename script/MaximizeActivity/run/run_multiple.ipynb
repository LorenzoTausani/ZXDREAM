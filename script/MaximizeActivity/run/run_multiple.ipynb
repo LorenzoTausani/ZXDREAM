{
 "cells": [
  {
   "cell_type": "code",
   "execution_count": 1,
   "metadata": {},
   "outputs": [],
   "source": [
    "import os\n",
    "from os import path\n",
    "from typing import List, Tuple\n",
    "\n",
    "from script.MaximizeActivity.run.run_multiple import main\n",
    "from zdream.utils.io_ import read_json"
   ]
  },
  {
   "cell_type": "code",
   "execution_count": 2,
   "metadata": {},
   "outputs": [],
   "source": [
    "# NOTE: Script directory path refers to the current script file\n",
    "SCRIPT_DIR      = path.abspath(path.join(os.getcwd(), '..', '..'))\n",
    "SCRIPT_SETTINGS = path.join(SCRIPT_DIR, 'local_settings.json')"
   ]
  },
  {
   "cell_type": "code",
   "execution_count": 3,
   "metadata": {},
   "outputs": [],
   "source": [
    "LAYERS  = [11, 21]\n",
    "NEURONS = [5,  10]\n",
    "REP     = 2"
   ]
  },
  {
   "cell_type": "code",
   "execution_count": 4,
   "metadata": {},
   "outputs": [],
   "source": [
    "settings = read_json(path=SCRIPT_SETTINGS)\n",
    "\n",
    "gen_weights  = settings['gen_weights']\n",
    "out_dir      = settings['out_dir']\n",
    "mini_inet    = settings['mini_inet']\n",
    "config_path  = settings['maximize_activity_config']"
   ]
  },
  {
   "cell_type": "code",
   "execution_count": 5,
   "metadata": {},
   "outputs": [],
   "source": [
    "def get_neurons_target(\n",
    "        layers:  List[int],\n",
    "        neurons: List[int],\n",
    "        rep: int = 1,\n",
    ") -> Tuple[str, str]:\n",
    "\n",
    "        def flatten(lst): return [item for sublist in lst for item in sublist]\n",
    "\n",
    "        return ''.join(flatten([[f'{l}={n}r[]#']*rep for l in layers  for n in neurons]))[:-1],\\\n",
    "               ''.join(flatten([[f'{l}=[]#'    ]*(rep * len(neurons)) for l in layers ]))[:-1]\n"
   ]
  },
  {
   "cell_type": "code",
   "execution_count": 6,
   "metadata": {},
   "outputs": [],
   "source": [
    "targets, rec_layers = get_neurons_target(\n",
    "    layers = LAYERS,\n",
    "    neurons= NEURONS,\n",
    "    rep    = REP,\n",
    ")"
   ]
  },
  {
   "cell_type": "code",
   "execution_count": 7,
   "metadata": {},
   "outputs": [
    {
     "data": {
      "text/plain": [
       "'11=5r[]#11=5r[]#11=10r[]#11=10r[]#21=5r[]#21=5r[]#21=10r[]#21=10r[]'"
      ]
     },
     "execution_count": 7,
     "metadata": {},
     "output_type": "execute_result"
    }
   ],
   "source": [
    "targets"
   ]
  },
  {
   "cell_type": "code",
   "execution_count": 8,
   "metadata": {},
   "outputs": [
    {
     "data": {
      "text/plain": [
       "'11=[]#11=[]#11=[]#11=[]#21=[]#21=[]#21=[]#21=[]'"
      ]
     },
     "execution_count": 8,
     "metadata": {},
     "output_type": "execute_result"
    }
   ],
   "source": [
    "rec_layers"
   ]
  },
  {
   "cell_type": "code",
   "execution_count": 10,
   "metadata": {},
   "outputs": [],
   "source": [
    "args = {\n",
    "    'config'       : config_path,\n",
    "    'weights'      : gen_weights,\n",
    "    'mini_inet'    : mini_inet,\n",
    "    'out_dir'      : out_dir,\n",
    "    'num_gens'     : 3,\n",
    "    'name'         : 'neurons',\n",
    "    'display_plots': True,\n",
    "    'rec_layers'   : rec_layers,\n",
    "    'targets'      : targets,\n",
    "}"
   ]
  },
  {
   "cell_type": "code",
   "execution_count": 11,
   "metadata": {},
   "outputs": [
    {
     "ename": "AttributeError",
     "evalue": "'int' object has no attribute 'split'",
     "output_type": "error",
     "traceback": [
      "\u001b[0;31m---------------------------------------------------------------------------\u001b[0m",
      "\u001b[0;31mAttributeError\u001b[0m                            Traceback (most recent call last)",
      "Cell \u001b[0;32mIn[11], line 1\u001b[0m\n\u001b[0;32m----> 1\u001b[0m main(args\u001b[38;5;241m=\u001b[39margs)\n",
      "File \u001b[0;32m~/Documents/GitHub/ZXDREAM/script/MaximizeActivity/run/run_multiple.py:44\u001b[0m, in \u001b[0;36mmain\u001b[0;34m(args)\u001b[0m\n\u001b[1;32m     40\u001b[0m type_cast \u001b[38;5;241m=\u001b[39m dict_type[k]\n\u001b[1;32m     42\u001b[0m \u001b[38;5;66;03m# Split input line with separator # and cast\u001b[39;00m\n\u001b[1;32m     43\u001b[0m args_conf[k] \u001b[38;5;241m=\u001b[39m [\n\u001b[0;32m---> 44\u001b[0m     type_cast(a\u001b[38;5;241m.\u001b[39mstrip()) \u001b[38;5;28;01mfor\u001b[39;00m a \u001b[38;5;129;01min\u001b[39;00m arg\u001b[38;5;241m.\u001b[39msplit(\u001b[38;5;124m'\u001b[39m\u001b[38;5;124m#\u001b[39m\u001b[38;5;124m'\u001b[39m)\n\u001b[1;32m     45\u001b[0m ]\n\u001b[1;32m     47\u001b[0m \u001b[38;5;66;03m# Add observed length if different from one\u001b[39;00m\n\u001b[1;32m     48\u001b[0m n_arg \u001b[38;5;241m=\u001b[39m \u001b[38;5;28mlen\u001b[39m(args_conf[k])\n",
      "\u001b[0;31mAttributeError\u001b[0m: 'int' object has no attribute 'split'"
     ]
    }
   ],
   "source": [
    "main(args=args)"
   ]
  },
  {
   "cell_type": "code",
   "execution_count": null,
   "metadata": {},
   "outputs": [],
   "source": []
  }
 ],
 "metadata": {
  "kernelspec": {
   "display_name": "zdream",
   "language": "python",
   "name": "python3"
  },
  "language_info": {
   "codemirror_mode": {
    "name": "ipython",
    "version": 3
   },
   "file_extension": ".py",
   "mimetype": "text/x-python",
   "name": "python",
   "nbconvert_exporter": "python",
   "pygments_lexer": "ipython3",
   "version": "3.11.8"
  }
 },
 "nbformat": 4,
 "nbformat_minor": 2
}
