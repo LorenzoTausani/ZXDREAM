{
 "cells": [
  {
   "cell_type": "code",
   "execution_count": 1,
   "metadata": {},
   "outputs": [],
   "source": [
    "import os\n",
    "from os import path\n",
    "from typing import List, Tuple\n",
    "\n",
    "from script.MaximizeActivity.run.run_multiple import main\n",
    "from zdream.utils.io_ import read_json"
   ]
  },
  {
   "cell_type": "code",
   "execution_count": 2,
   "metadata": {},
   "outputs": [],
   "source": [
    "# NOTE: Script directory path refers to the current script file\n",
    "SCRIPT_DIR      = path.abspath(path.join(os.getcwd(), '..', '..'))\n",
    "SCRIPT_SETTINGS = path.join(SCRIPT_DIR, 'local_settings.json')"
   ]
  },
  {
   "cell_type": "code",
   "execution_count": 3,
   "metadata": {},
   "outputs": [],
   "source": [
    "import numpy as np\n",
    "\n",
    "LAYERS        = [16, 19, 21]\n",
    "NEURONS       = [10, 30, 50]#list(np.logspace(0,3,num = 2, dtype=int))\n",
    "N_SAMPLES     = 2"
   ]
  },
  {
   "cell_type": "code",
   "execution_count": 4,
   "metadata": {},
   "outputs": [],
   "source": [
    "settings     = read_json(path=SCRIPT_SETTINGS)\n",
    "\n",
    "gen_weights  = settings['gen_weights']\n",
    "out_dir      = settings['out_dir']\n",
    "mini_inet    = settings['mini_inet']\n",
    "config_path  = settings['maximize_activity_config']"
   ]
  },
  {
   "cell_type": "code",
   "execution_count": 5,
   "metadata": {},
   "outputs": [],
   "source": [
    "import numpy as np\n",
    "\n",
    "def get_neurons_target(\n",
    "        layers:  List[int],\n",
    "        neurons: List[int],\n",
    "        n_samples: int = 1,\n",
    ") -> Tuple[str, str, str]:\n",
    "\n",
    "        def flatten(lst): return [item for sublist in lst for item in sublist]\n",
    "\n",
    "        return ''.join(flatten([[f'{l}={n}r[]#']*n_samples for l in layers  for n in neurons]))[:-1],\\\n",
    "               ''.join(flatten([[f'{l}={n//2}r[]#']*n_samples for l in layers  for n in neurons]))[:-1],\\\n",
    "               '#'.join([str(np.random.randint(0, 100000)) for _ in range(n_samples * len(neurons) * len(layers))])\n",
    "\n",
    "        return ''.join(flatten([[f'{l}={n}r[]#']*n_samples for l in layers  for n in neurons]))[:-1],\\\n",
    "               ''.join(flatten([[f'{l}=[]#'    ]*(n_samples * len(neurons)) for l in layers ]))[:-1],\\\n",
    "               '#'.join([str(np.random.randint(0, 100000)) for _ in range(n_samples * len(neurons) * len(layers))])\n",
    "\n",
    "\n"
   ]
  },
  {
   "cell_type": "code",
   "execution_count": 6,
   "metadata": {},
   "outputs": [],
   "source": [
    "rec_layers, scr_layers, rand_seeds = get_neurons_target(\n",
    "    layers = LAYERS,\n",
    "    neurons= NEURONS,\n",
    "    n_samples= N_SAMPLES,\n",
    ")"
   ]
  },
  {
   "cell_type": "code",
   "execution_count": 13,
   "metadata": {},
   "outputs": [],
   "source": [
    "args = {\n",
    "    'config'       : config_path,\n",
    "    'weights'      : gen_weights,\n",
    "    'mini_inet'    : mini_inet,\n",
    "    'out_dir'      : out_dir,\n",
    "    'iter'         : '2',\n",
    "    'template'     : 'TF',\n",
    "    'name'         : 'neurons_small',\n",
    "    'rec_layers'   : rec_layers,\n",
    "    'scr_layers'   : scr_layers,\n",
    "    'random_seed'  : rand_seeds,\n",
    "    'render'       : \"True\"\n",
    "}"
   ]
  },
  {
   "cell_type": "code",
   "execution_count": 14,
   "metadata": {},
   "outputs": [],
   "source": [
    "from subprocess import Popen, PIPE\n",
    "\n",
    "def copy(file, args):\n",
    "\n",
    "    cmd = f'python {file} ' + \" \".join(f'--{k} {v}' for k, v in args.items())\n",
    "    \n",
    "    cmd_ =  bytes(cmd, encoding='utf-8')\n",
    "    \n",
    "    p = Popen(['xsel', '-bi'], stdin=PIPE)\n",
    "    p.communicate(input=cmd_)"
   ]
  },
  {
   "cell_type": "code",
   "execution_count": 15,
   "metadata": {},
   "outputs": [],
   "source": [
    "copy('run_multiple.py', args)"
   ]
  },
  {
   "cell_type": "code",
   "execution_count": 37,
   "metadata": {},
   "outputs": [
    {
     "name": "stderr",
     "output_type": "stream",
     "text": [
      "2024-03-08 11:06:57.838 | INFO     | zdream.logger:_info:257 - RUNNING MULTIPLE VERSIONS (640) OF EXPERIMENT neurons-small\n",
      "2024-03-08 11:06:57.839 | INFO     | zdream.logger:_info:257 - RUNNING EXPERIMENT 1 OF 640.\n"
     ]
    },
    {
     "name": "stderr",
     "output_type": "stream",
     "text": [
      "2024-03-08 11:07:00.033 | INFO     | zdream.logger:_info:257 - Creating experiment directory /home/lorenzo/Documents/GitHub/ZXDREAM/result/output/MaximizeActivity/neurons-small/neurons-small-0\n",
      "2024-03-08 11:07:00.034 | INFO     | zdream.logger:_info:257 - \n",
      "2024-03-08 11:07:00.035 | INFO     | zdream.logger:_info:257 - MaximizeActivity[neurons-small]\n",
      "2024-03-08 11:07:00.036 | INFO     | zdream.logger:_info:257 - Parameters:\n",
      "2024-03-08 11:07:00.037 | INFO     | zdream.logger:_info:257 - config:          /home/lorenzo/Documents/GitHub/ZXDREAM/config/maximize_activity.json\n",
      "2024-03-08 11:07:00.037 | INFO     | zdream.logger:_info:257 - weights:         /home/lorenzo/Desktop/Datafolders/ZXDREAM/Kreiman_Generators\n",
      "2024-03-08 11:07:00.038 | INFO     | zdream.logger:_info:257 - mini_inet:       /home/lorenzo/Desktop/Datafolders/tiny-imagenet\n",
      "2024-03-08 11:07:00.039 | INFO     | zdream.logger:_info:257 - batch_size:      2\n",
      "2024-03-08 11:07:00.040 | INFO     | zdream.logger:_info:257 - variant:         fc8\n",
      "2024-03-08 11:07:00.040 | INFO     | zdream.logger:_info:257 - template:        T\n",
      "2024-03-08 11:07:00.041 | INFO     | zdream.logger:_info:257 - shuffle:         False\n",
      "2024-03-08 11:07:00.041 | INFO     | zdream.logger:_info:257 - net_name:        alexnet\n",
      "2024-03-08 11:07:00.042 | INFO     | zdream.logger:_info:257 - rec_layers:      1=[]\n",
      "2024-03-08 11:07:00.043 | INFO     | zdream.logger:_info:257 - targets:         1=1r[]\n",
      "2024-03-08 11:07:00.043 | INFO     | zdream.logger:_info:257 - aggregation:     mean\n",
      "2024-03-08 11:07:00.044 | INFO     | zdream.logger:_info:257 - pop_sz:          20\n",
      "2024-03-08 11:07:00.047 | INFO     | zdream.logger:_info:257 - mutation_rate:   0.3\n",
      "2024-03-08 11:07:00.048 | INFO     | zdream.logger:_info:257 - mutation_size:   0.3\n",
      "2024-03-08 11:07:00.049 | INFO     | zdream.logger:_info:257 - num_parents:     3\n",
      "2024-03-08 11:07:00.050 | INFO     | zdream.logger:_info:257 - temperature:     1.0\n",
      "2024-03-08 11:07:00.051 | INFO     | zdream.logger:_info:257 - random_distr:    normal\n",
      "2024-03-08 11:07:00.051 | INFO     | zdream.logger:_info:257 - out_dir:         /home/lorenzo/Documents/GitHub/ZXDREAM/result/output\n",
      "2024-03-08 11:07:00.052 | INFO     | zdream.logger:_info:257 - name:            neurons-small\n",
      "2024-03-08 11:07:00.053 | INFO     | zdream.logger:_info:257 - version:         0\n",
      "2024-03-08 11:07:00.054 | INFO     | zdream.logger:_info:257 - title:           MaximizeActivity\n",
      "2024-03-08 11:07:00.055 | INFO     | zdream.logger:_info:257 - num_gens:        75\n",
      "2024-03-08 11:07:00.056 | INFO     | zdream.logger:_info:257 - display_plots:   False\n",
      "2024-03-08 11:07:00.057 | INFO     | zdream.logger:_info:257 - random_seed:     33434\n",
      "2024-03-08 11:07:00.057 | INFO     | zdream.logger:_info:257 - Saving param configuration to: /home/lorenzo/Documents/GitHub/ZXDREAM/result/output/MaximizeActivity/neurons-small/neurons-small-0/params.json\n",
      "2024-03-08 11:07:00.061 | INFO     | zdream.logger:_info:257 - \n",
      "2024-03-08 11:07:00.062 | INFO     | zdream.logger:_info:257 - Components:\n",
      "2024-03-08 11:07:00.063 | INFO     | zdream.logger:_info:257 - Generator: InverseAlexNetGenerator[variant: fc8; in-dim: (1000,); out-dim: (3, 256, 256)]\n",
      "2024-03-08 11:07:00.065 | INFO     | zdream.logger:_info:257 - Subject:   NetworkSubject[name: alexnet, in-shape: (1, 3, 224, 224), n-layers: 22, n-probes: 1]\n",
      "2024-03-08 11:07:00.066 | INFO     | zdream.logger:_info:257 - Scorer:    MaximizeActivityScorer[target neurons: (01_conv2d_01: 1 units)]\n",
      "2024-03-08 11:07:00.067 | INFO     | zdream.logger:_info:257 - Optimizer: GeneticOptimizer[n_states: 20; n_parents: 3; temperature: 1.0; mutation_size: 0.3; mutation_rate: 0.3]\n",
      "2024-03-08 11:07:00.068 | INFO     | zdream.logger:_info:257 - \n",
      "2024-03-08 11:07:00.119 | INFO     | zdream.logger:_info:257 - Running...\n",
      "2024-03-08 11:07:00.230 | INFO     | zdream.logger:_info:257 - MaximizeActivity[neurons-small]: [ 1/75] ( 1.33%) | best score: 1.6 | avg score: -0.2\n",
      "2024-03-08 11:07:00.356 | INFO     | zdream.logger:_info:257 - MaximizeActivity[neurons-small]: [ 2/75] ( 2.67%) | best score: 1.6 | avg score: -0.1\n",
      "2024-03-08 11:07:00.400 | INFO     | zdream.logger:_info:257 - MaximizeActivity[neurons-small]: [ 3/75] ( 4.00%) | best score: 1.6 | avg score: 0.2\n",
      "2024-03-08 11:07:00.442 | INFO     | zdream.logger:_info:257 - MaximizeActivity[neurons-small]: [ 4/75] ( 5.33%) | best score: 2.2 | avg score: 0.8\n",
      "2024-03-08 11:07:00.483 | INFO     | zdream.logger:_info:257 - MaximizeActivity[neurons-small]: [ 5/75] ( 6.67%) | best score: 2.2 | avg score: 0.7\n",
      "2024-03-08 11:07:00.521 | INFO     | zdream.logger:_info:257 - MaximizeActivity[neurons-small]: [ 6/75] ( 8.00%) | best score: 3.3 | avg score: 0.9\n",
      "2024-03-08 11:07:00.561 | INFO     | zdream.logger:_info:257 - MaximizeActivity[neurons-small]: [ 7/75] ( 9.33%) | best score: 3.3 | avg score: 1.2\n",
      "2024-03-08 11:07:00.603 | INFO     | zdream.logger:_info:257 - MaximizeActivity[neurons-small]: [ 8/75] (10.67%) | best score: 4.5 | avg score: 2.1\n",
      "2024-03-08 11:07:00.643 | INFO     | zdream.logger:_info:257 - MaximizeActivity[neurons-small]: [ 9/75] (12.00%) | best score: 4.9 | avg score: 2.8\n",
      "2024-03-08 11:07:00.690 | INFO     | zdream.logger:_info:257 - MaximizeActivity[neurons-small]: [10/75] (13.33%) | best score: 5.0 | avg score: 3.2\n",
      "2024-03-08 11:07:00.732 | INFO     | zdream.logger:_info:257 - MaximizeActivity[neurons-small]: [11/75] (14.67%) | best score: 6.3 | avg score: 4.2\n",
      "2024-03-08 11:07:00.770 | INFO     | zdream.logger:_info:257 - MaximizeActivity[neurons-small]: [12/75] (16.00%) | best score: 6.7 | avg score: 4.9\n",
      "2024-03-08 11:07:00.807 | INFO     | zdream.logger:_info:257 - MaximizeActivity[neurons-small]: [13/75] (17.33%) | best score: 8.0 | avg score: 5.8\n",
      "2024-03-08 11:07:00.847 | INFO     | zdream.logger:_info:257 - MaximizeActivity[neurons-small]: [14/75] (18.67%) | best score: 9.7 | avg score: 7.0\n",
      "2024-03-08 11:07:00.887 | INFO     | zdream.logger:_info:257 - MaximizeActivity[neurons-small]: [15/75] (20.00%) | best score: 9.7 | avg score: 7.7\n",
      "2024-03-08 11:07:00.925 | INFO     | zdream.logger:_info:257 - MaximizeActivity[neurons-small]: [16/75] (21.33%) | best score: 10.1 | avg score: 8.4\n",
      "2024-03-08 11:07:00.965 | INFO     | zdream.logger:_info:257 - MaximizeActivity[neurons-small]: [17/75] (22.67%) | best score: 11.1 | avg score: 9.1\n",
      "2024-03-08 11:07:01.004 | INFO     | zdream.logger:_info:257 - MaximizeActivity[neurons-small]: [18/75] (24.00%) | best score: 11.3 | avg score: 9.5\n",
      "2024-03-08 11:07:01.044 | INFO     | zdream.logger:_info:257 - MaximizeActivity[neurons-small]: [19/75] (25.33%) | best score: 12.2 | avg score: 10.0\n",
      "2024-03-08 11:07:01.083 | INFO     | zdream.logger:_info:257 - MaximizeActivity[neurons-small]: [20/75] (26.67%) | best score: 13.7 | avg score: 11.0\n",
      "2024-03-08 11:07:01.123 | INFO     | zdream.logger:_info:257 - MaximizeActivity[neurons-small]: [21/75] (28.00%) | best score: 13.7 | avg score: 11.7\n",
      "2024-03-08 11:07:01.161 | INFO     | zdream.logger:_info:257 - MaximizeActivity[neurons-small]: [22/75] (29.33%) | best score: 13.7 | avg score: 12.1\n",
      "2024-03-08 11:07:01.201 | INFO     | zdream.logger:_info:257 - MaximizeActivity[neurons-small]: [23/75] (30.67%) | best score: 14.4 | avg score: 12.3\n",
      "2024-03-08 11:07:01.240 | INFO     | zdream.logger:_info:257 - MaximizeActivity[neurons-small]: [24/75] (32.00%) | best score: 14.4 | avg score: 13.2\n",
      "2024-03-08 11:07:01.280 | INFO     | zdream.logger:_info:257 - MaximizeActivity[neurons-small]: [25/75] (33.33%) | best score: 15.4 | avg score: 13.5\n",
      "2024-03-08 11:07:01.318 | INFO     | zdream.logger:_info:257 - MaximizeActivity[neurons-small]: [26/75] (34.67%) | best score: 16.8 | avg score: 14.0\n",
      "2024-03-08 11:07:01.364 | INFO     | zdream.logger:_info:257 - MaximizeActivity[neurons-small]: [27/75] (36.00%) | best score: 17.0 | avg score: 14.1\n",
      "2024-03-08 11:07:01.403 | INFO     | zdream.logger:_info:257 - MaximizeActivity[neurons-small]: [28/75] (37.33%) | best score: 17.0 | avg score: 15.3\n",
      "2024-03-08 11:07:01.442 | INFO     | zdream.logger:_info:257 - MaximizeActivity[neurons-small]: [29/75] (38.67%) | best score: 18.1 | avg score: 15.6\n",
      "2024-03-08 11:07:01.482 | INFO     | zdream.logger:_info:257 - MaximizeActivity[neurons-small]: [30/75] (40.00%) | best score: 18.1 | avg score: 15.7\n",
      "2024-03-08 11:07:01.520 | INFO     | zdream.logger:_info:257 - MaximizeActivity[neurons-small]: [31/75] (41.33%) | best score: 18.7 | avg score: 16.3\n",
      "2024-03-08 11:07:01.561 | INFO     | zdream.logger:_info:257 - MaximizeActivity[neurons-small]: [32/75] (42.67%) | best score: 20.0 | avg score: 17.3\n",
      "2024-03-08 11:07:01.601 | INFO     | zdream.logger:_info:257 - MaximizeActivity[neurons-small]: [33/75] (44.00%) | best score: 20.0 | avg score: 18.5\n",
      "2024-03-08 11:07:01.640 | INFO     | zdream.logger:_info:257 - MaximizeActivity[neurons-small]: [34/75] (45.33%) | best score: 21.6 | avg score: 19.0\n",
      "2024-03-08 11:07:01.680 | INFO     | zdream.logger:_info:257 - MaximizeActivity[neurons-small]: [35/75] (46.67%) | best score: 21.6 | avg score: 19.2\n",
      "2024-03-08 11:07:01.719 | INFO     | zdream.logger:_info:257 - MaximizeActivity[neurons-small]: [36/75] (48.00%) | best score: 21.6 | avg score: 19.5\n",
      "2024-03-08 11:07:01.759 | INFO     | zdream.logger:_info:257 - MaximizeActivity[neurons-small]: [37/75] (49.33%) | best score: 22.7 | avg score: 19.7\n",
      "2024-03-08 11:07:01.800 | INFO     | zdream.logger:_info:257 - MaximizeActivity[neurons-small]: [38/75] (50.67%) | best score: 22.7 | avg score: 20.9\n",
      "2024-03-08 11:07:01.840 | INFO     | zdream.logger:_info:257 - MaximizeActivity[neurons-small]: [39/75] (52.00%) | best score: 23.0 | avg score: 21.1\n",
      "2024-03-08 11:07:01.881 | INFO     | zdream.logger:_info:257 - MaximizeActivity[neurons-small]: [40/75] (53.33%) | best score: 23.5 | avg score: 21.3\n",
      "2024-03-08 11:07:01.921 | INFO     | zdream.logger:_info:257 - MaximizeActivity[neurons-small]: [41/75] (54.67%) | best score: 24.0 | avg score: 22.0\n",
      "2024-03-08 11:07:01.962 | INFO     | zdream.logger:_info:257 - MaximizeActivity[neurons-small]: [42/75] (56.00%) | best score: 24.8 | avg score: 22.3\n",
      "2024-03-08 11:07:02.003 | INFO     | zdream.logger:_info:257 - MaximizeActivity[neurons-small]: [43/75] (57.33%) | best score: 24.8 | avg score: 22.3\n",
      "2024-03-08 11:07:02.043 | INFO     | zdream.logger:_info:257 - MaximizeActivity[neurons-small]: [44/75] (58.67%) | best score: 24.8 | avg score: 22.1\n",
      "2024-03-08 11:07:02.084 | INFO     | zdream.logger:_info:257 - MaximizeActivity[neurons-small]: [45/75] (60.00%) | best score: 25.8 | avg score: 22.7\n",
      "2024-03-08 11:07:02.125 | INFO     | zdream.logger:_info:257 - MaximizeActivity[neurons-small]: [46/75] (61.33%) | best score: 25.8 | avg score: 23.1\n",
      "2024-03-08 11:07:02.168 | INFO     | zdream.logger:_info:257 - MaximizeActivity[neurons-small]: [47/75] (62.67%) | best score: 25.8 | avg score: 22.6\n",
      "2024-03-08 11:07:02.208 | INFO     | zdream.logger:_info:257 - MaximizeActivity[neurons-small]: [48/75] (64.00%) | best score: 25.8 | avg score: 24.1\n",
      "2024-03-08 11:07:02.251 | INFO     | zdream.logger:_info:257 - MaximizeActivity[neurons-small]: [49/75] (65.33%) | best score: 25.8 | avg score: 22.5\n",
      "2024-03-08 11:07:02.292 | INFO     | zdream.logger:_info:257 - MaximizeActivity[neurons-small]: [50/75] (66.67%) | best score: 25.8 | avg score: 24.0\n",
      "2024-03-08 11:07:02.334 | INFO     | zdream.logger:_info:257 - MaximizeActivity[neurons-small]: [51/75] (68.00%) | best score: 26.3 | avg score: 23.1\n",
      "2024-03-08 11:07:02.375 | INFO     | zdream.logger:_info:257 - MaximizeActivity[neurons-small]: [52/75] (69.33%) | best score: 26.7 | avg score: 24.4\n",
      "2024-03-08 11:07:02.417 | INFO     | zdream.logger:_info:257 - MaximizeActivity[neurons-small]: [53/75] (70.67%) | best score: 26.9 | avg score: 24.4\n",
      "2024-03-08 11:07:02.459 | INFO     | zdream.logger:_info:257 - MaximizeActivity[neurons-small]: [54/75] (72.00%) | best score: 26.9 | avg score: 24.0\n",
      "2024-03-08 11:07:02.502 | INFO     | zdream.logger:_info:257 - MaximizeActivity[neurons-small]: [55/75] (73.33%) | best score: 27.1 | avg score: 25.3\n",
      "2024-03-08 11:07:02.543 | INFO     | zdream.logger:_info:257 - MaximizeActivity[neurons-small]: [56/75] (74.67%) | best score: 27.1 | avg score: 25.1\n",
      "2024-03-08 11:07:02.584 | INFO     | zdream.logger:_info:257 - MaximizeActivity[neurons-small]: [57/75] (76.00%) | best score: 27.1 | avg score: 24.8\n",
      "2024-03-08 11:07:02.626 | INFO     | zdream.logger:_info:257 - MaximizeActivity[neurons-small]: [58/75] (77.33%) | best score: 27.1 | avg score: 24.6\n",
      "2024-03-08 11:07:02.668 | INFO     | zdream.logger:_info:257 - MaximizeActivity[neurons-small]: [59/75] (78.67%) | best score: 27.1 | avg score: 24.8\n",
      "2024-03-08 11:07:02.709 | INFO     | zdream.logger:_info:257 - MaximizeActivity[neurons-small]: [60/75] (80.00%) | best score: 27.4 | avg score: 25.0\n",
      "2024-03-08 11:07:02.750 | INFO     | zdream.logger:_info:257 - MaximizeActivity[neurons-small]: [61/75] (81.33%) | best score: 27.4 | avg score: 25.9\n",
      "2024-03-08 11:07:02.792 | INFO     | zdream.logger:_info:257 - MaximizeActivity[neurons-small]: [62/75] (82.67%) | best score: 27.4 | avg score: 24.3\n",
      "2024-03-08 11:07:02.834 | INFO     | zdream.logger:_info:257 - MaximizeActivity[neurons-small]: [63/75] (84.00%) | best score: 27.6 | avg score: 25.7\n",
      "2024-03-08 11:07:02.876 | INFO     | zdream.logger:_info:257 - MaximizeActivity[neurons-small]: [64/75] (85.33%) | best score: 27.6 | avg score: 25.2\n",
      "2024-03-08 11:07:02.918 | INFO     | zdream.logger:_info:257 - MaximizeActivity[neurons-small]: [65/75] (86.67%) | best score: 27.8 | avg score: 25.5\n",
      "2024-03-08 11:07:02.959 | INFO     | zdream.logger:_info:257 - MaximizeActivity[neurons-small]: [66/75] (88.00%) | best score: 28.3 | avg score: 26.1\n",
      "2024-03-08 11:07:03.001 | INFO     | zdream.logger:_info:257 - MaximizeActivity[neurons-small]: [67/75] (89.33%) | best score: 28.3 | avg score: 26.8\n",
      "2024-03-08 11:07:03.043 | INFO     | zdream.logger:_info:257 - MaximizeActivity[neurons-small]: [68/75] (90.67%) | best score: 28.3 | avg score: 26.5\n",
      "2024-03-08 11:07:03.085 | INFO     | zdream.logger:_info:257 - MaximizeActivity[neurons-small]: [69/75] (92.00%) | best score: 28.3 | avg score: 25.9\n",
      "2024-03-08 11:07:03.127 | INFO     | zdream.logger:_info:257 - MaximizeActivity[neurons-small]: [70/75] (93.33%) | best score: 29.0 | avg score: 27.0\n",
      "2024-03-08 11:07:03.175 | INFO     | zdream.logger:_info:257 - MaximizeActivity[neurons-small]: [71/75] (94.67%) | best score: 29.0 | avg score: 27.3\n"
     ]
    },
    {
     "ename": "TclError",
     "evalue": "invalid command name \".!toplevel.!frame.!label\"",
     "output_type": "error",
     "traceback": [
      "\u001b[0;31m---------------------------------------------------------------------------\u001b[0m",
      "\u001b[0;31mTclError\u001b[0m                                  Traceback (most recent call last)",
      "Cell \u001b[0;32mIn[37], line 1\u001b[0m\n\u001b[0;32m----> 1\u001b[0m \u001b[43mmain\u001b[49m\u001b[43m(\u001b[49m\u001b[43margs\u001b[49m\u001b[38;5;241;43m=\u001b[39;49m\u001b[43margs\u001b[49m\u001b[43m)\u001b[49m\n",
      "File \u001b[0;32m~/Documents/GitHub/ZXDREAM/script/MaximizeActivity/run/run_multiple.py:70\u001b[0m, in \u001b[0;36mmain\u001b[0;34m(args)\u001b[0m\n\u001b[1;32m     62\u001b[0m args_conf \u001b[38;5;241m=\u001b[39m {k : v \u001b[38;5;241m*\u001b[39m n_args \u001b[38;5;28;01mif\u001b[39;00m \u001b[38;5;28mlen\u001b[39m(v) \u001b[38;5;241m==\u001b[39m \u001b[38;5;241m1\u001b[39m \u001b[38;5;28;01melse\u001b[39;00m v \u001b[38;5;28;01mfor\u001b[39;00m k, v \u001b[38;5;129;01min\u001b[39;00m args_conf\u001b[38;5;241m.\u001b[39mitems()}\n\u001b[1;32m     64\u001b[0m mrun_experiment \u001b[38;5;241m=\u001b[39m NeuronScoreMultipleExperiment(\n\u001b[1;32m     65\u001b[0m     experiment\u001b[38;5;241m=\u001b[39m_MaximizeActivityExperiment,\n\u001b[1;32m     66\u001b[0m     base_config\u001b[38;5;241m=\u001b[39mjson_conf,\n\u001b[1;32m     67\u001b[0m     search_config\u001b[38;5;241m=\u001b[39margs_conf\n\u001b[1;32m     68\u001b[0m )\n\u001b[0;32m---> 70\u001b[0m \u001b[43mmrun_experiment\u001b[49m\u001b[38;5;241;43m.\u001b[39;49m\u001b[43mrun\u001b[49m\u001b[43m(\u001b[49m\u001b[43m)\u001b[49m\n",
      "File \u001b[0;32m~/Documents/GitHub/ZXDREAM/zdream/experiment.py:656\u001b[0m, in \u001b[0;36mMultiExperiment.run\u001b[0;34m(self)\u001b[0m\n\u001b[1;32m    653\u001b[0m     exp_config \u001b[38;5;241m=\u001b[39m overwrite_dict(\u001b[38;5;28mself\u001b[39m\u001b[38;5;241m.\u001b[39m_base_config, conf)\n\u001b[1;32m    654\u001b[0m     exp \u001b[38;5;241m=\u001b[39m \u001b[38;5;28mself\u001b[39m\u001b[38;5;241m.\u001b[39m_Exp\u001b[38;5;241m.\u001b[39mfrom_config(exp_config)\n\u001b[0;32m--> 656\u001b[0m     \u001b[43mexp\u001b[49m\u001b[38;5;241;43m.\u001b[39;49m\u001b[43mrun\u001b[49m\u001b[43m(\u001b[49m\u001b[43m)\u001b[49m\n\u001b[1;32m    658\u001b[0m     \u001b[38;5;28mself\u001b[39m\u001b[38;5;241m.\u001b[39m_progress(exp\u001b[38;5;241m=\u001b[39mexp, config\u001b[38;5;241m=\u001b[39mexp_config, i\u001b[38;5;241m=\u001b[39mi)\n\u001b[1;32m    660\u001b[0m \u001b[38;5;28mself\u001b[39m\u001b[38;5;241m.\u001b[39m_finish()\n",
      "File \u001b[0;32m~/Documents/GitHub/ZXDREAM/zdream/experiment.py:536\u001b[0m, in \u001b[0;36mExperiment.run\u001b[0;34m(self)\u001b[0m\n\u001b[1;32m    532\u001b[0m \u001b[38;5;28mself\u001b[39m\u001b[38;5;241m.\u001b[39m_init()\n\u001b[1;32m    534\u001b[0m start_time \u001b[38;5;241m=\u001b[39m time\u001b[38;5;241m.\u001b[39mtime()\n\u001b[0;32m--> 536\u001b[0m \u001b[38;5;28;43mself\u001b[39;49m\u001b[38;5;241;43m.\u001b[39;49m\u001b[43m_run\u001b[49m\u001b[43m(\u001b[49m\u001b[43m)\u001b[49m\n\u001b[1;32m    538\u001b[0m end_time \u001b[38;5;241m=\u001b[39m time\u001b[38;5;241m.\u001b[39mtime()\n\u001b[1;32m    540\u001b[0m \u001b[38;5;28mself\u001b[39m\u001b[38;5;241m.\u001b[39m_elapsed_time \u001b[38;5;241m=\u001b[39m end_time \u001b[38;5;241m-\u001b[39m start_time\n",
      "File \u001b[0;32m~/Documents/GitHub/ZXDREAM/zdream/experiment.py:519\u001b[0m, in \u001b[0;36mExperiment._run\u001b[0;34m(self)\u001b[0m\n\u001b[1;32m    516\u001b[0m stm_score \u001b[38;5;241m=\u001b[39m \u001b[38;5;28mself\u001b[39m\u001b[38;5;241m.\u001b[39m_sbj_state_to_stm_score(sbj_state)            \n\u001b[1;32m    517\u001b[0m codes     \u001b[38;5;241m=\u001b[39m \u001b[38;5;28mself\u001b[39m\u001b[38;5;241m.\u001b[39m_stm_score_to_codes(stm_score)\n\u001b[0;32m--> 519\u001b[0m \u001b[38;5;28;43mself\u001b[39;49m\u001b[38;5;241;43m.\u001b[39;49m\u001b[43m_progress\u001b[49m\u001b[43m(\u001b[49m\u001b[43mi\u001b[49m\u001b[38;5;241;43m=\u001b[39;49m\u001b[43mi\u001b[49m\u001b[43m)\u001b[49m\n",
      "File \u001b[0;32m~/Documents/GitHub/ZXDREAM/script/MaximizeActivity/maximize_activity.py:226\u001b[0m, in \u001b[0;36m_MaximizeActivityExperiment._progress\u001b[0;34m(self, i)\u001b[0m\n\u001b[1;32m    223\u001b[0m \u001b[38;5;28;01mif\u001b[39;00m \u001b[38;5;28mself\u001b[39m\u001b[38;5;241m.\u001b[39m_use_natural:\n\u001b[1;32m    224\u001b[0m     best_natural \u001b[38;5;241m=\u001b[39m \u001b[38;5;28mself\u001b[39m\u001b[38;5;241m.\u001b[39m_best_nat_img\n\u001b[0;32m--> 226\u001b[0m \u001b[38;5;28;43mself\u001b[39;49m\u001b[38;5;241;43m.\u001b[39;49m\u001b[43m_logger\u001b[49m\u001b[38;5;241;43m.\u001b[39;49m\u001b[43mupdate_screen\u001b[49m\u001b[43m(\u001b[49m\n\u001b[1;32m    227\u001b[0m \u001b[43m    \u001b[49m\u001b[43mscreen_name\u001b[49m\u001b[38;5;241;43m=\u001b[39;49m\u001b[38;5;28;43mself\u001b[39;49m\u001b[38;5;241;43m.\u001b[39;49m\u001b[43m_screen_syn\u001b[49m\u001b[43m,\u001b[49m\n\u001b[1;32m    228\u001b[0m \u001b[43m    \u001b[49m\u001b[43mimage\u001b[49m\u001b[38;5;241;43m=\u001b[39;49m\u001b[43mbest_synthetic_img\u001b[49m\n\u001b[1;32m    229\u001b[0m \u001b[43m\u001b[49m\u001b[43m)\u001b[49m\n\u001b[1;32m    231\u001b[0m \u001b[38;5;28;01mif\u001b[39;00m \u001b[38;5;28mself\u001b[39m\u001b[38;5;241m.\u001b[39m_use_natural:\n\u001b[1;32m    232\u001b[0m     \u001b[38;5;28mself\u001b[39m\u001b[38;5;241m.\u001b[39m_logger\u001b[38;5;241m.\u001b[39mupdate_screen(\n\u001b[1;32m    233\u001b[0m         screen_name\u001b[38;5;241m=\u001b[39m\u001b[38;5;28mself\u001b[39m\u001b[38;5;241m.\u001b[39m_screen_nat,\n\u001b[1;32m    234\u001b[0m         image\u001b[38;5;241m=\u001b[39mto_pil_image(best_natural)\n\u001b[1;32m    235\u001b[0m     )\n",
      "File \u001b[0;32m~/Documents/GitHub/ZXDREAM/zdream/logger.py:180\u001b[0m, in \u001b[0;36mLogger.update_screen\u001b[0;34m(self, screen_name, image)\u001b[0m\n\u001b[1;32m    170\u001b[0m \u001b[38;5;250m\u001b[39m\u001b[38;5;124;03m'''\u001b[39;00m\n\u001b[1;32m    171\u001b[0m \u001b[38;5;124;03mUpdate a display screen with a new image. It raises a key error if that screen name doesn't exist.\u001b[39;00m\n\u001b[1;32m    172\u001b[0m \u001b[38;5;124;03m\u001b[39;00m\n\u001b[0;32m   (...)\u001b[0m\n\u001b[1;32m    176\u001b[0m \u001b[38;5;124;03m:type image: Image.Image\u001b[39;00m\n\u001b[1;32m    177\u001b[0m \u001b[38;5;124;03m'''\u001b[39;00m\n\u001b[1;32m    179\u001b[0m \u001b[38;5;28;01mtry\u001b[39;00m:\n\u001b[0;32m--> 180\u001b[0m \t\u001b[38;5;28;43mself\u001b[39;49m\u001b[38;5;241;43m.\u001b[39;49m\u001b[43m_screens\u001b[49m\u001b[43m[\u001b[49m\u001b[43mscreen_name\u001b[49m\u001b[43m]\u001b[49m\u001b[38;5;241;43m.\u001b[39;49m\u001b[43mupdate\u001b[49m\u001b[43m(\u001b[49m\u001b[43mimage\u001b[49m\u001b[38;5;241;43m=\u001b[39;49m\u001b[43mimage\u001b[49m\u001b[43m)\u001b[49m\n\u001b[1;32m    182\u001b[0m \u001b[38;5;28;01mexcept\u001b[39;00m \u001b[38;5;167;01mKeyError\u001b[39;00m:\n\u001b[1;32m    183\u001b[0m \t\u001b[38;5;28;01mraise\u001b[39;00m \u001b[38;5;167;01mKeyError\u001b[39;00m(\u001b[38;5;124mf\u001b[39m\u001b[38;5;124m'\u001b[39m\u001b[38;5;124mScreen \u001b[39m\u001b[38;5;132;01m{\u001b[39;00mscreen_name\u001b[38;5;132;01m}\u001b[39;00m\u001b[38;5;124m not present in screens \u001b[39m\u001b[38;5;132;01m{\u001b[39;00m\u001b[38;5;28mself\u001b[39m\u001b[38;5;241m.\u001b[39m_screens\u001b[38;5;241m.\u001b[39mkeys()\u001b[38;5;132;01m}\u001b[39;00m\u001b[38;5;124m.\u001b[39m\u001b[38;5;124m'\u001b[39m)\n",
      "File \u001b[0;32m~/Documents/GitHub/ZXDREAM/zdream/utils/model.py:222\u001b[0m, in \u001b[0;36mDisplayScreen.update\u001b[0;34m(self, image)\u001b[0m\n\u001b[1;32m    219\u001b[0m photo \u001b[38;5;241m=\u001b[39m ImageTk\u001b[38;5;241m.\u001b[39mPhotoImage(resized_image)\n\u001b[1;32m    221\u001b[0m \u001b[38;5;66;03m# Configure the label with the resized image\u001b[39;00m\n\u001b[0;32m--> 222\u001b[0m \u001b[38;5;28;43mself\u001b[39;49m\u001b[38;5;241;43m.\u001b[39;49m\u001b[43m_image_label\u001b[49m\u001b[38;5;241;43m.\u001b[39;49m\u001b[43mconfigure\u001b[49m\u001b[43m(\u001b[49m\u001b[43mimage\u001b[49m\u001b[38;5;241;43m=\u001b[39;49m\u001b[43mphoto\u001b[49m\u001b[43m)\u001b[49m\n\u001b[1;32m    223\u001b[0m \u001b[38;5;28mself\u001b[39m\u001b[38;5;241m.\u001b[39m_image_label\u001b[38;5;241m.\u001b[39mimage \u001b[38;5;241m=\u001b[39m photo              \u001b[38;5;66;03m# type: ignore\u001b[39;00m\n\u001b[1;32m    225\u001b[0m \u001b[38;5;66;03m# Update the frame\u001b[39;00m\n",
      "File \u001b[0;32m~/anaconda3/envs/zdream/lib/python3.11/tkinter/__init__.py:1702\u001b[0m, in \u001b[0;36mMisc.configure\u001b[0;34m(self, cnf, **kw)\u001b[0m\n\u001b[1;32m   1695\u001b[0m \u001b[38;5;28;01mdef\u001b[39;00m \u001b[38;5;21mconfigure\u001b[39m(\u001b[38;5;28mself\u001b[39m, cnf\u001b[38;5;241m=\u001b[39m\u001b[38;5;28;01mNone\u001b[39;00m, \u001b[38;5;241m*\u001b[39m\u001b[38;5;241m*\u001b[39mkw):\n\u001b[1;32m   1696\u001b[0m \u001b[38;5;250m    \u001b[39m\u001b[38;5;124;03m\"\"\"Configure resources of a widget.\u001b[39;00m\n\u001b[1;32m   1697\u001b[0m \n\u001b[1;32m   1698\u001b[0m \u001b[38;5;124;03m    The values for resources are specified as keyword\u001b[39;00m\n\u001b[1;32m   1699\u001b[0m \u001b[38;5;124;03m    arguments. To get an overview about\u001b[39;00m\n\u001b[1;32m   1700\u001b[0m \u001b[38;5;124;03m    the allowed keyword arguments call the method keys.\u001b[39;00m\n\u001b[1;32m   1701\u001b[0m \u001b[38;5;124;03m    \"\"\"\u001b[39;00m\n\u001b[0;32m-> 1702\u001b[0m     \u001b[38;5;28;01mreturn\u001b[39;00m \u001b[38;5;28;43mself\u001b[39;49m\u001b[38;5;241;43m.\u001b[39;49m\u001b[43m_configure\u001b[49m\u001b[43m(\u001b[49m\u001b[38;5;124;43m'\u001b[39;49m\u001b[38;5;124;43mconfigure\u001b[39;49m\u001b[38;5;124;43m'\u001b[39;49m\u001b[43m,\u001b[49m\u001b[43m \u001b[49m\u001b[43mcnf\u001b[49m\u001b[43m,\u001b[49m\u001b[43m \u001b[49m\u001b[43mkw\u001b[49m\u001b[43m)\u001b[49m\n",
      "File \u001b[0;32m~/anaconda3/envs/zdream/lib/python3.11/tkinter/__init__.py:1692\u001b[0m, in \u001b[0;36mMisc._configure\u001b[0;34m(self, cmd, cnf, kw)\u001b[0m\n\u001b[1;32m   1690\u001b[0m \u001b[38;5;28;01mif\u001b[39;00m \u001b[38;5;28misinstance\u001b[39m(cnf, \u001b[38;5;28mstr\u001b[39m):\n\u001b[1;32m   1691\u001b[0m     \u001b[38;5;28;01mreturn\u001b[39;00m \u001b[38;5;28mself\u001b[39m\u001b[38;5;241m.\u001b[39m_getconfigure1(_flatten((\u001b[38;5;28mself\u001b[39m\u001b[38;5;241m.\u001b[39m_w, cmd, \u001b[38;5;124m'\u001b[39m\u001b[38;5;124m-\u001b[39m\u001b[38;5;124m'\u001b[39m\u001b[38;5;241m+\u001b[39mcnf)))\n\u001b[0;32m-> 1692\u001b[0m \u001b[38;5;28;43mself\u001b[39;49m\u001b[38;5;241;43m.\u001b[39;49m\u001b[43mtk\u001b[49m\u001b[38;5;241;43m.\u001b[39;49m\u001b[43mcall\u001b[49m\u001b[43m(\u001b[49m\u001b[43m_flatten\u001b[49m\u001b[43m(\u001b[49m\u001b[43m(\u001b[49m\u001b[38;5;28;43mself\u001b[39;49m\u001b[38;5;241;43m.\u001b[39;49m\u001b[43m_w\u001b[49m\u001b[43m,\u001b[49m\u001b[43m \u001b[49m\u001b[43mcmd\u001b[49m\u001b[43m)\u001b[49m\u001b[43m)\u001b[49m\u001b[43m \u001b[49m\u001b[38;5;241;43m+\u001b[39;49m\u001b[43m \u001b[49m\u001b[38;5;28;43mself\u001b[39;49m\u001b[38;5;241;43m.\u001b[39;49m\u001b[43m_options\u001b[49m\u001b[43m(\u001b[49m\u001b[43mcnf\u001b[49m\u001b[43m)\u001b[49m\u001b[43m)\u001b[49m\n",
      "\u001b[0;31mTclError\u001b[0m: invalid command name \".!toplevel.!frame.!label\""
     ]
    }
   ],
   "source": [
    "main(args=args)"
   ]
  },
  {
   "cell_type": "code",
   "execution_count": null,
   "metadata": {},
   "outputs": [],
   "source": []
  }
 ],
 "metadata": {
  "kernelspec": {
   "display_name": "zdream",
   "language": "python",
   "name": "python3"
  },
  "language_info": {
   "codemirror_mode": {
    "name": "ipython",
    "version": 3
   },
   "file_extension": ".py",
   "mimetype": "text/x-python",
   "name": "python",
   "nbconvert_exporter": "python",
   "pygments_lexer": "ipython3",
   "version": "3.11.8"
  }
 },
 "nbformat": 4,
 "nbformat_minor": 2
}
