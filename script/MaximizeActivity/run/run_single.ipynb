{
 "cells": [
  {
   "cell_type": "code",
   "execution_count": 1,
   "metadata": {},
   "outputs": [],
   "source": [
    "import os\n",
    "from os import path\n",
    "\n",
    "from script.MaximizeActivity.run.run_single import main\n",
    "from zdream.utils.io_ import read_json"
   ]
  },
  {
   "cell_type": "code",
   "execution_count": 2,
   "metadata": {},
   "outputs": [],
   "source": [
    "# NOTE: Script directory path refers to the current script file\n",
    "SCRIPT_DIR      = path.abspath(path.join(os.getcwd(), '..', '..'))\n",
    "SCRIPT_SETTINGS = path.join(SCRIPT_DIR, 'local_settings.json')"
   ]
  },
  {
   "cell_type": "code",
   "execution_count": 3,
   "metadata": {},
   "outputs": [],
   "source": [
    "settings = read_json(path=SCRIPT_SETTINGS)\n",
    "\n",
    "gen_weights  = settings['gen_weights']\n",
    "out_dir      = settings['out_dir']\n",
    "mini_inet    = settings['mini_inet']\n",
    "config_path  = settings['maximize_activity_config']"
   ]
  },
  {
   "cell_type": "code",
   "execution_count": 4,
   "metadata": {},
   "outputs": [],
   "source": [
    "args = {\n",
    "    'config'       : config_path,\n",
    "    'weights'      : gen_weights,\n",
    "    'mini_inet'    : mini_inet,\n",
    "    'out_dir'      : out_dir,\n",
    "    'num_gens'     : 10,\n",
    "    'name'         : 'prova',\n",
    "    'display_plots': True,\n",
    "    'rec_layers'   : \"11=[1:4 5:10 0:7]\",\n",
    "    'targets'      : \"11=[2:4 6:7 0:5]\",\n",
    "}"
   ]
  },
  {
   "cell_type": "code",
   "execution_count": 5,
   "metadata": {},
   "outputs": [
    {
     "name": "stderr",
     "output_type": "stream",
     "text": [
      "2024-03-05 11:56:31.748 | INFO     | zdream.logger:info:226 - Creating experiment directory /home/sebaq/Documents/GitHub/ZXDREAM/out/MaximizeActivity/seba/seba-1\n",
      "2024-03-05 11:56:31.749 | INFO     | zdream.logger:info:226 - \n",
      "2024-03-05 11:56:31.751 | INFO     | zdream.logger:info:226 - Experiment[seba]\n",
      "2024-03-05 11:56:31.753 | INFO     | zdream.logger:info:226 - Parameters:\n",
      "2024-03-05 11:56:31.755 | INFO     | zdream.logger:info:226 - config:          /home/sebaq/Documents/GitHub/ZXDREAM/config/maximize_activity.json\n",
      "2024-03-05 11:56:31.757 | INFO     | zdream.logger:info:226 - weights:         /home/sebaq/Documents/GitHub/ZXDREAM/data/inverse-alexnet-weights\n",
      "2024-03-05 11:56:31.759 | INFO     | zdream.logger:info:226 - mini_inet:       /home/sebaq/Documents/GitHub/ZXDREAM/data/mini-inet\n",
      "2024-03-05 11:56:31.762 | INFO     | zdream.logger:info:226 - batch_size:      2\n",
      "2024-03-05 11:56:31.764 | INFO     | zdream.logger:info:226 - variant:         fc8\n",
      "2024-03-05 11:56:31.766 | INFO     | zdream.logger:info:226 - template:        TFFFF\n",
      "2024-03-05 11:56:31.768 | INFO     | zdream.logger:info:226 - shuffle:         False\n",
      "2024-03-05 11:56:31.770 | INFO     | zdream.logger:info:226 - net_name:        alexnet\n",
      "2024-03-05 11:56:31.772 | INFO     | zdream.logger:info:226 - rec_layers:      21:[]\n",
      "2024-03-05 11:56:31.775 | INFO     | zdream.logger:info:226 - targets:         21:[0_19]\n",
      "2024-03-05 11:56:31.778 | INFO     | zdream.logger:info:226 - aggregation:     mean\n",
      "2024-03-05 11:56:31.779 | INFO     | zdream.logger:info:226 - scr_rseed:       31415\n",
      "2024-03-05 11:56:31.781 | INFO     | zdream.logger:info:226 - pop_sz:          20\n",
      "2024-03-05 11:56:31.783 | INFO     | zdream.logger:info:226 - optim_rseed:     123\n",
      "2024-03-05 11:56:31.785 | INFO     | zdream.logger:info:226 - mutation_rate:   0.3\n",
      "2024-03-05 11:56:31.787 | INFO     | zdream.logger:info:226 - mutation_size:   0.3\n",
      "2024-03-05 11:56:31.789 | INFO     | zdream.logger:info:226 - num_parents:     3\n",
      "2024-03-05 11:56:31.790 | INFO     | zdream.logger:info:226 - temperature:     1.0\n",
      "2024-03-05 11:56:31.792 | INFO     | zdream.logger:info:226 - random_state:    normal\n",
      "2024-03-05 11:56:31.794 | INFO     | zdream.logger:info:226 - out_dir:         /home/sebaq/Documents/GitHub/ZXDREAM/out\n",
      "2024-03-05 11:56:31.796 | INFO     | zdream.logger:info:226 - name:            seba\n",
      "2024-03-05 11:56:31.798 | INFO     | zdream.logger:info:226 - version:         0\n",
      "2024-03-05 11:56:31.800 | INFO     | zdream.logger:info:226 - title:           MaximizeActivity\n",
      "2024-03-05 11:56:31.801 | INFO     | zdream.logger:info:226 - num_gens:        3\n",
      "2024-03-05 11:56:31.803 | INFO     | zdream.logger:info:226 - display_plots:   True\n",
      "2024-03-05 11:56:31.805 | INFO     | zdream.logger:info:226 - Saving param configuration to: /home/sebaq/Documents/GitHub/ZXDREAM/out/MaximizeActivity/seba/seba-1/params.json\n",
      "2024-03-05 11:56:31.808 | INFO     | zdream.logger:info:226 - \n",
      "2024-03-05 11:56:31.809 | INFO     | zdream.logger:info:226 - Components:\n",
      "2024-03-05 11:56:31.811 | INFO     | zdream.logger:info:226 - Generator: InverseAlexNetGenerator[variant: fc8; in-dim: (1000,); out-dim: (3, 256, 256)]\n",
      "2024-03-05 11:56:31.815 | INFO     | zdream.logger:info:226 - Subject:   NetworkSubject[name: alexnet, in-shape: (1, 3, 224, 224), n-layers: 22, n-probes: 1]\n",
      "2024-03-05 11:56:31.817 | INFO     | zdream.logger:info:226 - Scorer:    MaximizeActivityScorer[target neurons: (21_linear_03: 19 units)]\n",
      "2024-03-05 11:56:31.821 | INFO     | zdream.logger:info:226 - Optimizer: GeneticOptimizer[n_states: 20; n_parents: 3; temperature: 1.0; mutation_size: 0.3; mutation_rate: 0.3]\n",
      "2024-03-05 11:56:31.823 | INFO     | zdream.logger:info:226 - \n",
      "2024-03-05 11:56:31.978 | INFO     | zdream.logger:info:226 - Running...\n",
      "2024-03-05 11:56:36.701 | INFO     | zdream.logger:info:226 - Experiment[seba]: [0/3] ( 0.00%) | best score: 2.2 | avg score: 0.8 | best nat: 4.3\n",
      "2024-03-05 11:56:40.583 | INFO     | zdream.logger:info:226 - Experiment[seba]: [1/3] (33.33%) | best score: 3.0 | avg score: 1.2 | best nat: 5.8\n",
      "2024-03-05 11:56:44.252 | INFO     | zdream.logger:info:226 - Experiment[seba]: [2/3] (66.67%) | best score: 3.1 | avg score: 1.6 | best nat: 5.8\n",
      "2024-03-05 11:56:44.345 | INFO     | zdream.logger:info:226 - Experiment finished successfully. Elapsed time: 12 seconds s.\n",
      "2024-03-05 11:56:44.346 | INFO     | zdream.logger:info:226 - \n",
      "2024-03-05 11:56:44.384 | INFO     | zdream.logger:info:226 - Dumping experiment to /home/sebaq/Documents/GitHub/ZXDREAM/out/MaximizeActivity/seba/seba-1/state\n",
      "2024-03-05 11:56:44.386 | INFO     | zdream.logger:info:226 - > Saving mask history to /home/sebaq/Documents/GitHub/ZXDREAM/out/MaximizeActivity/seba/seba-1/state/mask.npy\n",
      "2024-03-05 11:56:44.389 | INFO     | zdream.logger:info:226 - > Saving labels history to /home/sebaq/Documents/GitHub/ZXDREAM/out/MaximizeActivity/seba/seba-1/state/labels.npy\n",
      "2024-03-05 11:56:44.391 | INFO     | zdream.logger:info:226 - > Saving states history to /home/sebaq/Documents/GitHub/ZXDREAM/out/MaximizeActivity/seba/seba-1/state/states.npz\n",
      "2024-03-05 11:56:44.396 | INFO     | zdream.logger:info:226 - > Saving codes history to /home/sebaq/Documents/GitHub/ZXDREAM/out/MaximizeActivity/seba/seba-1/state/codes.npy\n",
      "2024-03-05 11:56:44.399 | INFO     | zdream.logger:info:226 - > Saving scores history to /home/sebaq/Documents/GitHub/ZXDREAM/out/MaximizeActivity/seba/seba-1/state/scores.npy\n",
      "2024-03-05 11:56:44.401 | INFO     | zdream.logger:info:226 - > Saving scores of natural images history to /home/sebaq/Documents/GitHub/ZXDREAM/out/MaximizeActivity/seba/seba-1/state/scores_nat.npy\n",
      "2024-03-05 11:56:44.403 | INFO     | zdream.logger:info:226 - \n",
      "2024-03-05 11:56:44.406 | INFO     | zdream.logger:info:226 - Saving images to /home/sebaq/Documents/GitHub/ZXDREAM/out/MaximizeActivity/seba/seba-1/images\n",
      "2024-03-05 11:56:45.256 | INFO     | zdream.logger:info:226 - Saving plots to /home/sebaq/Documents/GitHub/ZXDREAM/out/MaximizeActivity/seba/seba-1/images\n",
      "2024-03-05 11:56:55.395 | INFO     | zdream.logger:info:226 - \n"
     ]
    }
   ],
   "source": [
    "main(args=args)"
   ]
  },
  {
   "cell_type": "code",
   "execution_count": null,
   "metadata": {},
   "outputs": [],
   "source": []
  }
 ],
 "metadata": {
  "kernelspec": {
   "display_name": "zdream",
   "language": "python",
   "name": "python3"
  },
  "language_info": {
   "codemirror_mode": {
    "name": "ipython",
    "version": 3
   },
   "file_extension": ".py",
   "mimetype": "text/x-python",
   "name": "python",
   "nbconvert_exporter": "python",
   "pygments_lexer": "ipython3",
   "version": "3.11.7"
  }
 },
 "nbformat": 4,
 "nbformat_minor": 2
}
